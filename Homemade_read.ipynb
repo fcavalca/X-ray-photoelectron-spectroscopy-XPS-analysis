{
 "cells": [
  {
   "cell_type": "markdown",
   "metadata": {},
   "source": [
    "# Handmade reading functions without using numpy"
   ]
  },
  {
   "cell_type": "code",
   "execution_count": null,
   "metadata": {
    "collapsed": true
   },
   "outputs": [],
   "source": [
    "def datalist(file_name):\n",
    "    # Reads all lines in the file and outputs a list of lines\n",
    "    file_pointer = open(file_name, 'r')\n",
    "    data = file_pointer.readlines()\n",
    "    return data\n",
    "\n",
    "def clean (input_file):\n",
    "    # Removes all non-numeric parts of each element in data_list, including the carriage return \\n\n",
    "    batch=datalist(input_file)\n",
    "    cleandata=[elem.strip() for elem in batch if '#' not in elem]\n",
    "    return cleandata\n",
    "\n",
    "def get_data (input_file):\n",
    "    # Separates data_list in columns, data and ring current, and outputs a tuple with (energy, intensity, and current) in numpy array form\n",
    "    batch=clean(input_file)\n",
    "    datahalf=[elem.split('  ') for elem in batch[:len(batch)//2]] # Removes double space and splits into columns\n",
    "    currenthalf=[elem.split(' ') for elem in batch[len(batch)//2+1:]] # Takes second half of list, corresponding to the ring current\n",
    "    kin_energy=np.array([float(datahalf[i][0]) for i in range(len(datahalf))]) # make energy array\n",
    "    intensity=np.array([float(datahalf[i][1]) for i in range(len(datahalf))]) # make intensity array\n",
    "    current=np.array([float(currenthalf[i][1]) for i in range(len(currenthalf))]) # make ring current array\n",
    "    bin_energy=abs(kin_energy-get_exc(input_file))\n",
    "    return (bin_energy,intensity,current)"
   ]
  }
 ],
 "metadata": {
  "kernelspec": {
   "display_name": "Python 3",
   "language": "python",
   "name": "python3"
  },
  "language_info": {
   "codemirror_mode": {
    "name": "ipython",
    "version": 3
   },
   "file_extension": ".py",
   "mimetype": "text/x-python",
   "name": "python",
   "nbconvert_exporter": "python",
   "pygments_lexer": "ipython3",
   "version": "3.6.3"
  }
 },
 "nbformat": 4,
 "nbformat_minor": 2
}
